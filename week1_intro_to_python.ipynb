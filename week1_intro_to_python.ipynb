{
  "nbformat": 4,
  "nbformat_minor": 0,
  "metadata": {
    "colab": {
      "name": "week1_intro_to_python.ipynb",
      "provenance": [],
      "include_colab_link": true
    },
    "kernelspec": {
      "name": "python3",
      "display_name": "Python 3"
    }
  },
  "cells": [
    {
      "cell_type": "markdown",
      "metadata": {
        "id": "view-in-github",
        "colab_type": "text"
      },
      "source": [
        "<a href=\"https://colab.research.google.com/github/rwack2019/BDColab/blob/master/week1_intro_to_python.ipynb\" target=\"_parent\"><img src=\"https://colab.research.google.com/assets/colab-badge.svg\" alt=\"Open In Colab\"/></a>"
      ]
    },
    {
      "cell_type": "markdown",
      "metadata": {
        "id": "fOQQ8JHF4rK6",
        "colab_type": "text"
      },
      "source": [
        "# Big Data Colab Week 1: Intro to Python"
      ]
    },
    {
      "cell_type": "markdown",
      "metadata": {
        "id": "rhwX99splTFn",
        "colab_type": "text"
      },
      "source": [
        "Welcome to week one of MAGIC's Big Data Colab. This module contains an intro to python as well as an introduction to computational thinking. All important stuff. Let's get started"
      ]
    },
    {
      "cell_type": "markdown",
      "metadata": {
        "id": "IMaMYKrTlrhN",
        "colab_type": "text"
      },
      "source": [
        "Python is a powerful and popular programming language for data science, web backends, and scientific computing. Its popularity comes from its ease of both reading and writing. It isn't hard to get started with python! This tutorial will start with the basics and work up to more complex code. "
      ]
    },
    {
      "cell_type": "markdown",
      "metadata": {
        "id": "6zJSn7f6mHxu",
        "colab_type": "text"
      },
      "source": [
        "## Basic Data Types:\n",
        "\n",
        "The starting point for any programming is understanding its basic data types. Data types are just what a program uses to store data. We, as programmers, have a need to store all types of data (e.g. numbers, addresses, party membership, whatever!). Its a good thing python makes it easy to store all sorts of data types\n",
        "\n",
        "The following code blocks introduce integers, floats, booleans, strings, and some basic operators."
      ]
    },
    {
      "cell_type": "markdown",
      "metadata": {
        "id": "9bF_j4Xb45Ng",
        "colab_type": "text"
      },
      "source": [
        "### Integers and Floats"
      ]
    },
    {
      "cell_type": "code",
      "metadata": {
        "id": "19b-VIfLlSQk",
        "colab_type": "code",
        "colab": {
          "base_uri": "https://localhost:8080/",
          "height": 34
        },
        "outputId": "85f6efe1-a30b-48a5-cddb-19cfa8a8c74a"
      },
      "source": [
        "# Surprise, surprise. Python can store numbers.\n",
        "\n",
        "zebras=6\n",
        "pandas=7\n",
        "\n",
        "total_animals_in_zoo= pandas + zebras\n",
        "print(total_animals_in_zoo)\n"
      ],
      "execution_count": null,
      "outputs": [
        {
          "output_type": "stream",
          "text": [
            "13\n"
          ],
          "name": "stdout"
        }
      ]
    },
    {
      "cell_type": "code",
      "metadata": {
        "id": "NqHcbVwatITO",
        "colab_type": "code",
        "colab": {}
      },
      "source": [
        ""
      ],
      "execution_count": null,
      "outputs": []
    },
    {
      "cell_type": "code",
      "metadata": {
        "id": "Qa5o6HWYnjYt",
        "colab_type": "code",
        "colab": {
          "base_uri": "https://localhost:8080/",
          "height": 34
        },
        "outputId": "a7ed5a97-6763-4f84-9c4d-338d71be0efe"
      },
      "source": [
        "# Python also makes it easy to store decimals (floating point values or floats).\n",
        "# Its also easy to convert between integers and floats\n",
        "my_height_in_inches =71.5\n",
        "your_height_in_cms= 67.75\n",
        "\n",
        "combined_height_in_inches= my_height_in_inches + (your_height_in_cms/2.54)\n",
        "print(combined_height_in_inches)"
      ],
      "execution_count": null,
      "outputs": [
        {
          "output_type": "stream",
          "text": [
            "98.1732283464567\n"
          ],
          "name": "stdout"
        }
      ]
    },
    {
      "cell_type": "code",
      "metadata": {
        "id": "7iZGF3usvHl6",
        "colab_type": "code",
        "colab": {
          "base_uri": "https://localhost:8080/",
          "height": 51
        },
        "outputId": "ea9b4176-c517-4da4-b186-ea2bfe154f44"
      },
      "source": [
        "# We can also compare numbers.\n",
        "print(1<2)\n",
        "print(25<=20)"
      ],
      "execution_count": null,
      "outputs": [
        {
          "output_type": "stream",
          "text": [
            "True\n",
            "False\n"
          ],
          "name": "stdout"
        }
      ]
    },
    {
      "cell_type": "markdown",
      "metadata": {
        "id": "IdPkkDHCoxR3",
        "colab_type": "text"
      },
      "source": [
        "**1.1)** You're up. Using the variables, calculate the area of the circles defined\n",
        "below and figure out which circle is larger. Print the result to the console. Area=pi*r^2\n",
        "\n",
        "[Here's](https://www.jpl.nasa.gov/edu/news/2016/3/16/how-many-decimals-of-pi-do-we-really-need/) a cool article about the precision of pi used in the code for interplanetary navigation. :)"
      ]
    },
    {
      "cell_type": "code",
      "metadata": {
        "id": "CysUJ7dvo-7o",
        "colab_type": "code",
        "colab": {
          "base_uri": "https://localhost:8080/",
          "height": 85
        },
        "outputId": "0f214c49-d38a-4f9d-df15-6f6b3400c125"
      },
      "source": [
        "pi=3.14159 # Aprox.\n",
        "diameter1=10\n",
        "diameter2=15\n",
        "\n",
        "###### YOUR CODE HERE ##########\n",
        "area1 = pi*((diameter1/2)**2)\n",
        "area2 = pi*((diameter2/2)**2)\n",
        "\n",
        "print(area1)\n",
        "print(area2)\n",
        "\n",
        "\n",
        "\n",
        "print(\"Circle one is larger than circle two.\")\n",
        "print(area1 > area2)\n",
        "\n",
        "################################"
      ],
      "execution_count": null,
      "outputs": [
        {
          "output_type": "stream",
          "text": [
            "78.53975\n",
            "176.7144375\n",
            "Circle one is larger than circle two.\n",
            "False\n"
          ],
          "name": "stdout"
        }
      ]
    },
    {
      "cell_type": "markdown",
      "metadata": {
        "id": "mmv0FkU6p644",
        "colab_type": "text"
      },
      "source": [
        "### Strings\n",
        "\n",
        "Being able to store numbers is obviously important. But we do need to be able to store other types of data. What if we want to store a name or address?\n",
        "\n",
        "Enter strings! Programs use strings to store characters and words."
      ]
    },
    {
      "cell_type": "code",
      "metadata": {
        "id": "_JzksSa2p6je",
        "colab_type": "code",
        "colab": {
          "base_uri": "https://localhost:8080/",
          "height": 34
        },
        "outputId": "d5ba7582-ba51-42cb-ec93-0fad602b1fa2"
      },
      "source": [
        "first_name = \"Robert\"\n",
        "last_name = 'Wack' \n",
        "\n",
        "full_name = first_name + \" \" + last_name\n",
        "print(full_name)\n",
        "# Notice in python you can use single or double quotes to declare a string. \n",
        "# In python, it depends on your style. In other languages, you can only use\n",
        "# double quotes and single quotes can only declare individual characters. "
      ],
      "execution_count": null,
      "outputs": [
        {
          "output_type": "stream",
          "text": [
            "Robert Wack\n"
          ],
          "name": "stdout"
        }
      ]
    },
    {
      "cell_type": "markdown",
      "metadata": {
        "id": "VMkunRrTrKs1",
        "colab_type": "text"
      },
      "source": [
        "Strings themselves aren't that useful. We need operators to make them more powerful. Python gives you [a lot](https://www.programiz.com/python-programming/methods/string) to work with out of the box. "
      ]
    },
    {
      "cell_type": "code",
      "metadata": {
        "id": "5cueKusCrJcO",
        "colab_type": "code",
        "colab": {
          "base_uri": "https://localhost:8080/",
          "height": 34
        },
        "outputId": "302fec3d-7509-4ae4-d0d0-080473dfe80f"
      },
      "source": [
        " print(\"length: \" + str(len(\"I wonder how long this sentence is.\"))) # Casting "
      ],
      "execution_count": null,
      "outputs": [
        {
          "output_type": "stream",
          "text": [
            "length: 35\n"
          ],
          "name": "stdout"
        }
      ]
    },
    {
      "cell_type": "code",
      "metadata": {
        "id": "2SThgtpzsGpx",
        "colab_type": "code",
        "colab": {
          "base_uri": "https://localhost:8080/",
          "height": 51
        },
        "outputId": "a1e063a5-49b3-4288-aafb-5345567ecbf7"
      },
      "source": [
        "my_str=\"yelling? Im not yelling.\"\n",
        "print(my_str)\n",
        "print(my_str.upper())"
      ],
      "execution_count": null,
      "outputs": [
        {
          "output_type": "stream",
          "text": [
            "yelling? Im not yelling.\n",
            "YELLING? IM NOT YELLING.\n"
          ],
          "name": "stdout"
        }
      ]
    },
    {
      "cell_type": "code",
      "metadata": {
        "id": "hc59-JUrs--m",
        "colab_type": "code",
        "colab": {}
      },
      "source": [
        "str1 = \"string 1\"\n",
        "str2 = \"string 2\"\n",
        "str3 = \"string 1\"\n",
        "\n",
        "print(str1 == str2)\n",
        "print(str1 == \"string 1\")\n",
        "print(str1 < str2)"
      ],
      "execution_count": null,
      "outputs": []
    },
    {
      "cell_type": "markdown",
      "metadata": {
        "id": "96pA3Ul8vYzT",
        "colab_type": "text"
      },
      "source": [
        "**1.2)** Fill in the address fields and concatenate the strings. Make sure the address is all upper case then print it to the console. Can you do it without declaring the zip_code as a string to start?"
      ]
    },
    {
      "cell_type": "code",
      "metadata": {
        "id": "yG1to1eivZHv",
        "colab_type": "code",
        "colab": {
          "base_uri": "https://localhost:8080/",
          "height": 34
        },
        "outputId": "2fdb3867-dd90-40fe-c393-8f19172095c0"
      },
      "source": [
        "street_address = \"93 WEST GREEN ST\"\n",
        "city = \"WESTMINSTER\"\n",
        "state = \"MD\"\n",
        "zip_code = 21157\n",
        "\n",
        "print(\"Address \" + street_address + ' ' + city + ' ' + state + ' ' + str(zip_code))"
      ],
      "execution_count": null,
      "outputs": [
        {
          "output_type": "stream",
          "text": [
            "Address 93 WEST GREEN ST WESTMINSTER MD 21157\n"
          ],
          "name": "stdout"
        }
      ]
    },
    {
      "cell_type": "markdown",
      "metadata": {
        "id": "oym5-FtJuif9",
        "colab_type": "text"
      },
      "source": [
        "### Booleans and Conditional Branching\n",
        "\n",
        "As you've seen above, boolean variables (i.e. true and false) are also important. A lot of functions depend on the logical combinations of boolean variables, for example logical AND OR and NOT. [Here](https://medium.com/i-math/intro-to-truth-tables-boolean-algebra-73b331dd9b94) is a gentle intro to boolean logic. "
      ]
    },
    {
      "cell_type": "code",
      "metadata": {
        "id": "_BqYM7BOtcjd",
        "colab_type": "code",
        "colab": {}
      },
      "source": [
        "sam_likes_pizza = True\n",
        "jim_likes_pizza = True\n",
        "max_likes_pizza = False\n",
        "\n",
        "sam_and_max_like_pizza = sam_likes_pizza and max_likes_pizza\n",
        "sam_and_jim_like_pizza = sam_likes_pizza and jim_likes_pizza\n",
        "\n",
        "sam_or_max_like_pizza = sam_likes_pizza or max_likes_pizza\n",
        "sam_or_jim_like_pizza = sam_likes_pizza or jim_likes_pizza\n",
        "\n",
        "what_will_this_be = not sam_likes_pizza"
      ],
      "execution_count": null,
      "outputs": []
    },
    {
      "cell_type": "markdown",
      "metadata": {
        "id": "jfrM1MsOZlBM",
        "colab_type": "text"
      },
      "source": [
        "True and false values are important for controlling the flow of a program. For example, if the user is new, show them a sign up screen, else show them their home screen. "
      ]
    },
    {
      "cell_type": "code",
      "metadata": {
        "id": "3s_PZAVHZ0zh",
        "colab_type": "code",
        "colab": {
          "base_uri": "https://localhost:8080/",
          "height": 34
        },
        "outputId": "40bf29f1-e362-4bc3-8b23-30f5aac4f37c"
      },
      "source": [
        "four_legs = True\n",
        "floppy_ears = True\n",
        "two_legs = False\n",
        "onek_legs = False\n",
        "\n",
        "if(four_legs is True):\n",
        "  if(floppy_ears is True):\n",
        "    print(\"its a dog\")\n",
        "  else:\n",
        "    print(\"its a bunny\")\n",
        "elif(onek_legs):\n",
        "  print(\"its a millipede \")\n",
        "else:\n",
        "  print(\"Animal unidentified\")\n",
        "\n",
        "\n",
        "# Often times we can condense if blocks\n",
        "\n",
        "if(four_legs and floppy_ears):\n",
        "  print(\"its a dog\")\n",
        "elif(two_legs and floppy_ears):\n",
        "  print(\"its a bunny\")\n",
        "elif(onek_legs):\n",
        "  print(\"its a bunny\")\n",
        "else:\n",
        "  print(\"Animal unidentified\")"
      ],
      "execution_count": null,
      "outputs": [
        {
          "output_type": "stream",
          "text": [
            "its a dog\n"
          ],
          "name": "stdout"
        }
      ]
    },
    {
      "cell_type": "markdown",
      "metadata": {
        "id": "Xh3FNTMhbG0q",
        "colab_type": "text"
      },
      "source": [
        "**1.3)** Your turn. Consider all the conditions needed to come together for a thunderstorm (e.g. rain, thunder, lightning, low pressure, etc). Write a sequence of if statements that can correctly identify a thunderstorm given a series of conditions. "
      ]
    },
    {
      "cell_type": "code",
      "metadata": {
        "id": "2l4ElYIRTWXr",
        "colab_type": "code",
        "colab": {}
      },
      "source": [
        ""
      ],
      "execution_count": null,
      "outputs": []
    },
    {
      "cell_type": "markdown",
      "metadata": {
        "id": "4olvm05ptc3f",
        "colab_type": "text"
      },
      "source": [
        "### Collections: Lists and Dicts\n",
        "\n",
        "So far we've seen numbers, strings, and boolean data types. These are useful, but a lot of times we need... more ... things.\n",
        "\n",
        "The last two data types we'll see are types of collections. Collections store groups of basic data types or even groups of other collections. The two basic collections we'll look at are lists and maps aka dictionaries.\n",
        "\n",
        "[Here](https://www.w3schools.com/python/python_ref_list.asp) is a list of common list functions.\n",
        "\n",
        "[Here](https://www.w3schools.com/python/python_ref_dictionary.asp) is a list of common dictionary functions. \n",
        "\n"
      ]
    },
    {
      "cell_type": "code",
      "metadata": {
        "id": "myiWtBnFxQmP",
        "colab_type": "code",
        "colab": {
          "base_uri": "https://localhost:8080/",
          "height": 85
        },
        "outputId": "51e9c2e7-aefa-4b4e-efa1-e2f87175868f"
      },
      "source": [
        "my_list = [1,2,3,4,5]\n",
        "\n",
        "# lists can also be mixed type\n",
        "my_mixed_list = [1, \"two\", False]\n",
        "my_mixed_list.append(\"new element\")\n",
        "my_mixed_list.remove(\"two\")\n",
        "my_mixed_list.index(False)\n",
        "my_mixed_list.clear()\n",
        "\n",
        "# lists can store other lists ?!?!\n",
        "list_o_lists = [['1.1', '1.2', '1.3'], ['2.1', '2.2', '2.3', 2.4]]\n",
        "print(list_o_lists[1][2])\n",
        "# Under the hood what is a string? :O\n",
        "\n",
        "# You can access a list items based on their indexes\n",
        "my_list = [1,2,3,4,5]\n",
        "print(my_list[3])\n",
        "\n",
        "# A popular function for lists/maps is the 'in' keyword\n",
        "\n",
        "print(1 in my_list)\n",
        "print(43 in my_list)"
      ],
      "execution_count": null,
      "outputs": [
        {
          "output_type": "stream",
          "text": [
            "2.3\n",
            "4\n",
            "True\n",
            "False\n"
          ],
          "name": "stdout"
        }
      ]
    },
    {
      "cell_type": "markdown",
      "metadata": {
        "id": "EOWMIM7j4IKO",
        "colab_type": "text"
      },
      "source": [
        "**1.3)** You are analyzing sports teams.  Members of each team are stored in a list. The Coach is the first name in the list, the captain is the second name in the list, and other players are listed after that. \n",
        "These lists are stored in another list, which starts with the best team and proceeds through the list to the worst team last.  Complete the function below to select the **captain** of the worst team and print to console."
      ]
    },
    {
      "cell_type": "code",
      "metadata": {
        "id": "Yd-5aKeh4Nu2",
        "colab_type": "code",
        "colab": {
          "base_uri": "https://localhost:8080/",
          "height": 35
        },
        "outputId": "19575934-e376-4462-cd67-602f08a1e6a5"
      },
      "source": [
        "real_madrid=['zidane', 'ramos', 'marcelo']\n",
        "barcelona=['valverde', 'messi', 'pique']\n",
        "\n",
        "teams = [real_madrid, barcelona]\n",
        "\n",
        "######### YOUR CODE HERE ##############\n",
        "teams[1][1]"
      ],
      "execution_count": null,
      "outputs": [
        {
          "output_type": "execute_result",
          "data": {
            "application/vnd.google.colaboratory.intrinsic+json": {
              "type": "string"
            },
            "text/plain": [
              "'messi'"
            ]
          },
          "metadata": {
            "tags": []
          },
          "execution_count": 18
        }
      ]
    },
    {
      "cell_type": "markdown",
      "metadata": {
        "id": "x7pdc7lnzMyQ",
        "colab_type": "text"
      },
      "source": [
        "A map/dictionary is a collection that stores key value pairs. Think of it like a literal dictionary. When you need something you find the word (key) and get the definition (value). But unlike a real dictionary, a python dictionary doesn't just map strings to strings. It can map any data type to any other data type."
      ]
    },
    {
      "cell_type": "code",
      "metadata": {
        "id": "6VwKhXxQzJ1S",
        "colab_type": "code",
        "colab": {
          "base_uri": "https://localhost:8080/",
          "height": 136
        },
        "outputId": "515cd918-1f69-4b27-aafc-58cf3279d6fa"
      },
      "source": [
        "capitals={'United States': 'DC', 'France': 'Paris', 'Mexico': 'DF'}\n",
        "\n",
        "populations = dict()\n",
        "populations['UMD'] = 40000\n",
        "populations['Towson'] = 30000\n",
        "populations['UMBC'] = 20000\n",
        "populations['Notre Dame'] = 8000\n",
        "\n",
        "capitals['Canada'] = 'Ottawa'\n",
        "\n",
        "for k,v in populations.items():\n",
        "  print(k)\n",
        "\n",
        "print(populations.get('Notre Dame'))\n",
        "print(capitals['United States'])\n",
        "print(capitals['Canada'])"
      ],
      "execution_count": null,
      "outputs": [
        {
          "output_type": "stream",
          "text": [
            "UMD\n",
            "Towson\n",
            "UMBC\n",
            "Notre Dame\n",
            "8000\n",
            "DC\n",
            "Ottawa\n"
          ],
          "name": "stdout"
        }
      ]
    },
    {
      "cell_type": "markdown",
      "metadata": {
        "id": "Zgq5nDvvdhB2",
        "colab_type": "text"
      },
      "source": [
        "**1.4)** Declare a new dict that contains state capitals. The key should be the state name and the value should be the capital. After adding three entries, [clear](https://www.w3schools.com/python/ref_dictionary_clear.asp) the dict. "
      ]
    },
    {
      "cell_type": "code",
      "metadata": {
        "id": "DK4R-ZAMd1s8",
        "colab_type": "code",
        "colab": {
          "base_uri": "https://localhost:8080/",
          "height": 85
        },
        "outputId": "d79ad6a1-92fb-4df4-d5be-9147df83aa9c"
      },
      "source": [
        "state_cap = dict()\n",
        "state_cap['MD'] = 'Annapolis'\n",
        "state_cap['VA'] = 'Richmond'\n",
        "state_cap['PA'] = 'Harrisburg'\n",
        "\n",
        "for k,v in state_cap.items():\n",
        "  print(v)\n",
        "\n",
        "state_cap.clear()\n",
        "print(state_cap)\n"
      ],
      "execution_count": null,
      "outputs": [
        {
          "output_type": "stream",
          "text": [
            "Annapolis\n",
            "Richmond\n",
            "Harrisburg\n",
            "{}\n"
          ],
          "name": "stdout"
        }
      ]
    },
    {
      "cell_type": "markdown",
      "metadata": {
        "id": "CUxrLJY4xDru",
        "colab_type": "text"
      },
      "source": [
        "### Loops\n",
        "\n",
        "Now that we've seen collections, you can see how it might be important (majorily important cough cough) to be able to iterate over the collection and look at everything inside.\n",
        "\n",
        "Loop loop loop loop loop loop loop loop loop loop loop loop loop \n"
      ]
    },
    {
      "cell_type": "code",
      "metadata": {
        "id": "Uxj99p430vfo",
        "colab_type": "code",
        "colab": {
          "base_uri": "https://localhost:8080/",
          "height": 1000
        },
        "outputId": "7118a300-2165-4c90-abae-d797365e875a"
      },
      "source": [
        "# Simple loop\n",
        "#for i in range(10):\n",
        "  #print(i)\n",
        "\n",
        "# Nested for loop\n",
        "for i in range(0, 100, 5):\n",
        "  for j in range(5):\n",
        "    print(i+j)\n",
        "\n",
        "# Summation loop\n",
        "#sum=0\n",
        "#for i in range(0, 100, 10):\n",
        "  #sum = sum + 10\n",
        "  #print(\"sum: \" + str(sum))\n",
        "\n",
        "#print(\"sum: \" + str(sum))##"
      ],
      "execution_count": null,
      "outputs": [
        {
          "output_type": "stream",
          "text": [
            "0\n",
            "1\n",
            "2\n",
            "3\n",
            "4\n",
            "5\n",
            "6\n",
            "7\n",
            "8\n",
            "9\n",
            "10\n",
            "11\n",
            "12\n",
            "13\n",
            "14\n",
            "15\n",
            "16\n",
            "17\n",
            "18\n",
            "19\n",
            "20\n",
            "21\n",
            "22\n",
            "23\n",
            "24\n",
            "25\n",
            "26\n",
            "27\n",
            "28\n",
            "29\n",
            "30\n",
            "31\n",
            "32\n",
            "33\n",
            "34\n",
            "35\n",
            "36\n",
            "37\n",
            "38\n",
            "39\n",
            "40\n",
            "41\n",
            "42\n",
            "43\n",
            "44\n",
            "45\n",
            "46\n",
            "47\n",
            "48\n",
            "49\n",
            "50\n",
            "51\n",
            "52\n",
            "53\n",
            "54\n",
            "55\n",
            "56\n",
            "57\n",
            "58\n",
            "59\n",
            "60\n",
            "61\n",
            "62\n",
            "63\n",
            "64\n",
            "65\n",
            "66\n",
            "67\n",
            "68\n",
            "69\n",
            "70\n",
            "71\n",
            "72\n",
            "73\n",
            "74\n",
            "75\n",
            "76\n",
            "77\n",
            "78\n",
            "79\n",
            "80\n",
            "81\n",
            "82\n",
            "83\n",
            "84\n",
            "85\n",
            "86\n",
            "87\n",
            "88\n",
            "89\n",
            "90\n",
            "91\n",
            "92\n",
            "93\n",
            "94\n",
            "95\n",
            "96\n",
            "97\n",
            "98\n",
            "99\n"
          ],
          "name": "stdout"
        }
      ]
    },
    {
      "cell_type": "code",
      "metadata": {
        "id": "wjcF224q00uH",
        "colab_type": "code",
        "colab": {
          "base_uri": "https://localhost:8080/",
          "height": 238
        },
        "outputId": "605b5097-b63d-4a27-e2b3-31b8b4ac8047"
      },
      "source": [
        "# Appending to list using a loop\n",
        "my_list = []\n",
        "\n",
        "for i in range(10):\n",
        "  my_list.append(i)\n",
        "\n",
        "# Looping over a dict and a list\n",
        "name_dict=dict()\n",
        "name_dict['santa'] = 'claus'\n",
        "name_dict['easter'] = 'bunny'\n",
        "name_dict['tooth'] = 'fairy'\n",
        "\n",
        "for k,v in name_dict.items():\n",
        "  print(k, v)\n",
        "\n",
        "for num in my_list:\n",
        "  print(num)"
      ],
      "execution_count": null,
      "outputs": [
        {
          "output_type": "stream",
          "text": [
            "santa claus\n",
            "easter bunny\n",
            "tooth fairy\n",
            "0\n",
            "1\n",
            "2\n",
            "3\n",
            "4\n",
            "5\n",
            "6\n",
            "7\n",
            "8\n",
            "9\n"
          ],
          "name": "stdout"
        }
      ]
    },
    {
      "cell_type": "markdown",
      "metadata": {
        "id": "xTBADXwweClQ",
        "colab_type": "text"
      },
      "source": [
        "**1.5)** You've seen earlier that python gives you an 'in' function to test if an element is in a list or a dict. It isn't magic that makes the 'in' function work. Engineers had to design the 'in' function for you to use. \n",
        "\n",
        "Given a list of items and a check_item, think about how you could check to see if the list contains that check_item. If the item is in the list, print \"true\" else print \"false\". *(Hint: You should be thinking about loops and if conditions)*.\n",
        "\n"
      ]
    },
    {
      "cell_type": "code",
      "metadata": {
        "id": "GI9s3XuDe7eS",
        "colab_type": "code",
        "colab": {
          "base_uri": "https://localhost:8080/",
          "height": 34
        },
        "outputId": "a8d8d07d-d26c-4f4b-aac2-6d70a397b778"
      },
      "source": [
        "######## YOUR CODE HERE ##############\n",
        "\n",
        "my_list = [1,2,3,4,5,6,8,9,10]\n",
        "check_item = 7\n",
        "test_flag = False\n",
        "\n",
        "for i in range(len(my_list)):\n",
        " if my_list[i] == check_item:\n",
        "   test_flag= True\n",
        "\n",
        "test_flag"
      ],
      "execution_count": null,
      "outputs": [
        {
          "output_type": "execute_result",
          "data": {
            "text/plain": [
              "False"
            ]
          },
          "metadata": {
            "tags": []
          },
          "execution_count": 25
        }
      ]
    },
    {
      "cell_type": "markdown",
      "metadata": {
        "id": "5ezyKoyD5ZT_",
        "colab_type": "text"
      },
      "source": [
        "### Functions\n",
        "\n",
        "In the section above, you wrote a useful snipped of code that replicates the 'in' function. A lot of times in programming you write something useful that you want to use again. Instead of rewriting the logic each time you use it, you can use a function to call the logic in multiple places.\n",
        "\n",
        "A function contains a keyword def, a name, arguments, and a return value."
      ]
    },
    {
      "cell_type": "code",
      "metadata": {
        "id": "jONb8_BIf2fj",
        "colab_type": "code",
        "colab": {
          "base_uri": "https://localhost:8080/",
          "height": 51
        },
        "outputId": "7d0ffccd-e285-48dc-8614-4c3a445d80fe"
      },
      "source": [
        "def list_shorter_10_elements(list):\n",
        "  if(len(list) < 10):\n",
        "    return True\n",
        "  else:\n",
        "    return False\n",
        "\n",
        "my_list = []\n",
        "for i in range(0,100):\n",
        "  my_list.append(i)\n",
        "\n",
        "print(list_shorter_10_elements(my_list))\n",
        "\n",
        "my_list.clear()\n",
        "\n",
        "for i in range(0, 9):\n",
        "  my_list.append(i)\n",
        "\n",
        "print(list_shorter_10_elements(my_list))"
      ],
      "execution_count": null,
      "outputs": [
        {
          "output_type": "stream",
          "text": [
            "False\n",
            "True\n"
          ],
          "name": "stdout"
        }
      ]
    },
    {
      "cell_type": "markdown",
      "metadata": {
        "id": "zAW1swWzgMyc",
        "colab_type": "text"
      },
      "source": [
        "**1.6)** Convert the logic you wrote in 1.5 into a function (two arguments?) and test it on multiple lists. Think about if there are any scenarios where your function might break. Some people's entire job is testing the code that others wrote (QA testing [link text](https://twitter.com/brenankeller/status/1068615953989087232)). Edge cases are important in computer science :) . "
      ]
    },
    {
      "cell_type": "code",
      "metadata": {
        "id": "_h3UXw67hAbD",
        "colab_type": "code",
        "colab": {
          "base_uri": "https://localhost:8080/",
          "height": 34
        },
        "outputId": "cfa71ea7-ca66-4ce5-db88-3b4ede2cc3b3"
      },
      "source": [
        "#### YOUR CODE HERE ###########\n",
        "def list_checker(list, nmbr):\n",
        "  test_flag = False\n",
        "  for i in range(len(list)):\n",
        "    if list[i] == nmbr:\n",
        "        test_flag= True\n",
        "  return test_flag\n",
        "\n",
        "my_list = [1,2,3,4,5,6,8,9,10]\n",
        "list_checker(my_list, 9)\n",
        "\n"
      ],
      "execution_count": null,
      "outputs": [
        {
          "output_type": "execute_result",
          "data": {
            "text/plain": [
              "True"
            ]
          },
          "metadata": {
            "tags": []
          },
          "execution_count": 32
        }
      ]
    },
    {
      "cell_type": "markdown",
      "metadata": {
        "id": "GKxfE_YK5lCD",
        "colab_type": "text"
      },
      "source": [
        "\n",
        "### Computational Thinking\n",
        "\n",
        "Most of programming is just manipulating all the the structures and language features described above. Solving coding puzzles can help you become a better problem solver and a better program. As an additional incentive, most coding modern coding interviews are just a series of problems solving exercises.\n",
        "\n"
      ]
    },
    {
      "cell_type": "markdown",
      "metadata": {
        "id": "fZ7Vx9Bv8MiR",
        "colab_type": "text"
      },
      "source": [
        "**1.7)** Write a function called list_max that takes in a single list of numbers as an argument. Your function must return the max value in the list or return None if the list is empty. Then create a second function called list_min that does the same but for the minimum element. Don't use Python's prebuilt max or min :) ."
      ]
    },
    {
      "cell_type": "code",
      "metadata": {
        "id": "PlbcCpOX8Lgu",
        "colab_type": "code",
        "colab": {
          "base_uri": "https://localhost:8080/",
          "height": 34
        },
        "outputId": "ec62e188-adf1-4322-9ca1-dc5237e1389e"
      },
      "source": [
        "###### YOUR CODE HERE ########\n",
        "\n",
        "def list_max(lst):\n",
        "  if len(lst) == 0:\n",
        "    print(\"None\")\n",
        "  maxi = lst[0]\n",
        "  for i in range(0, len(lst)):\n",
        "    if lst[i] > maxi:\n",
        "      maxi = lst[i]\n",
        "  return maxi\n",
        "test = [3,5,2,7,3,9,1,6]\n",
        "list_max(test)\n",
        "\n",
        "####### min_list here #########\n",
        "def list_min(lst):\n",
        "  if len(lst) == 0:\n",
        "    print(\"None\")\n",
        "  else:  \n",
        "    for i in range(0, len(lst)):\n",
        "      mini = lst[0]\n",
        "      if lst[i] < mini:\n",
        "        mini = lst[i]\n",
        "    return mini\n",
        "test = [3,5,2,7,3,9,1,6]\n",
        "#test = []\n",
        "list_min(test)"
      ],
      "execution_count": null,
      "outputs": [
        {
          "output_type": "execute_result",
          "data": {
            "text/plain": [
              "3"
            ]
          },
          "metadata": {
            "tags": []
          },
          "execution_count": 22
        }
      ]
    },
    {
      "cell_type": "markdown",
      "metadata": {
        "id": "POqmLueV-L6e",
        "colab_type": "text"
      },
      "source": [
        "**1.8)** Summing a series a numbers comes up often in programming. For example, the total cost of all the items in a shopping cart. Write a function that takes in a list of numbers as an argument and returns the sum of the list. Return 0 for an empty list."
      ]
    },
    {
      "cell_type": "code",
      "metadata": {
        "id": "IncILUd0_Rf0",
        "colab_type": "code",
        "colab": {
          "base_uri": "https://localhost:8080/",
          "height": 34
        },
        "outputId": "4d611122-dc72-409d-9b1a-eb13d05c8044"
      },
      "source": [
        "#### YOUR CODE HERE ######\n",
        "def sum_list(lst):\n",
        "  tot = 0\n",
        "  for i in range(len(lst)):\n",
        "    tot = lst[i] + tot\n",
        "\n",
        "  return tot\n",
        "\n",
        "#test = [2,5,3,8,4,9]\n",
        "test = []\n",
        "\n",
        "sum_list(test)\n"
      ],
      "execution_count": null,
      "outputs": [
        {
          "output_type": "execute_result",
          "data": {
            "text/plain": [
              "0"
            ]
          },
          "metadata": {
            "tags": []
          },
          "execution_count": 24
        }
      ]
    },
    {
      "cell_type": "markdown",
      "metadata": {
        "id": "2I-xUU51TihZ",
        "colab_type": "text"
      },
      "source": [
        "**1.9)** Write a function that takes in two lists, lst1 and lst2. The function should concatenate the lists (i.e. each element of lst2 starting with the first should be added to the end of lst1)."
      ]
    },
    {
      "cell_type": "code",
      "metadata": {
        "id": "8o-DyjQwT5d1",
        "colab_type": "code",
        "colab": {
          "base_uri": "https://localhost:8080/",
          "height": 34
        },
        "outputId": "a2803bdb-a220-4bf2-ed58-096155149471"
      },
      "source": [
        "###### YOUR CODE HERE ########\n",
        "def concat_lists(lst1, lst2):\n",
        "  new_list = lst1 + lst2\n",
        "  return new_list\n",
        "\n",
        "test1 = ['dog', 'cat', 2, 5]\n",
        "test2 = ['house', 7, 'car']\n",
        "\n",
        "concat_lists(test1, test2)\n",
        "  "
      ],
      "execution_count": null,
      "outputs": [
        {
          "output_type": "execute_result",
          "data": {
            "text/plain": [
              "['dog', 'cat', 2, 5, 'house', 7, 'car']"
            ]
          },
          "metadata": {
            "tags": []
          },
          "execution_count": 25
        }
      ]
    },
    {
      "cell_type": "markdown",
      "metadata": {
        "id": "vhpIVF6N9R3Z",
        "colab_type": "text"
      },
      "source": [
        "**1.10)** The modulus (%) is a common mathematical operator in python. The the expression (a % b) is equivalent to the remainder of a divided by b. For example, 10 % 7 is 3 and 20 % 3 is 2.\n",
        "\n",
        "It's common to use modulus 2 to determine if a number is even or odd in programming. Notice that any number % 2 is either 0 or 1. If a % 2 is 0, a is even. If a % 2 is 1, a is odd.\n",
        "\n",
        "Given that knowledge, try to figure out what the code below is doing. I purposefully made the variable names meaningless. Its probably easiest to look at and explain one function at a time then try to combine them. "
      ]
    },
    {
      "cell_type": "code",
      "metadata": {
        "id": "YftN-IYN9r0E",
        "colab_type": "code",
        "colab": {
          "base_uri": "https://localhost:8080/",
          "height": 51
        },
        "outputId": "97a997df-bbae-422c-ce23-8e0b5d505e7b"
      },
      "source": [
        "#### Try out some mod exaples here ####\n",
        "print(10 % 2)\n",
        "print(11 % 2)"
      ],
      "execution_count": null,
      "outputs": [
        {
          "output_type": "stream",
          "text": [
            "0\n",
            "1\n"
          ],
          "name": "stdout"
        }
      ]
    },
    {
      "cell_type": "code",
      "metadata": {
        "id": "NdSXyBNz_gLZ",
        "colab_type": "code",
        "colab": {
          "base_uri": "https://localhost:8080/",
          "height": 68
        },
        "outputId": "1e0ec78f-4dad-495b-e9cf-1b6ed0087416"
      },
      "source": [
        "def foo(lst):\n",
        "  magic = []\n",
        "  for i in lst:\n",
        "    if(i % 2 == 0):\n",
        "      magic.append(i)\n",
        "  \n",
        "  return magic\n",
        "\n",
        "def bar(lst):\n",
        "  cat = lst.sort() # We haven't seen this but you should get it :)\n",
        "  return lst[-1] # Hint: negative indexes wrap around to the back of the list\n",
        "\n",
        "dog = [1,43,543,53,3,64,90,32,45,692,2, 20, -10,785]\n",
        "\n",
        "print(foo(dog))\n",
        "print(bar(dog))\n",
        "print(bar(foo(dog)))"
      ],
      "execution_count": null,
      "outputs": [
        {
          "output_type": "stream",
          "text": [
            "[64, 90, 32, 692, 2, 20, -10]\n",
            "785\n",
            "692\n"
          ],
          "name": "stdout"
        }
      ]
    },
    {
      "cell_type": "markdown",
      "metadata": {
        "id": "gg3PhFZPUsFF",
        "colab_type": "text"
      },
      "source": [
        "A really important skill for python specifically and programmig in general is the ability to find things you need on Google. Many times, you may not know how to solve but a problem, but the good news is, someone else has definitley already thought about it.\n",
        "\n",
        "This problem is a little more advanced and involves two data structures. If you get stuck, google away! Programmers are just really good googlers. \n",
        "\n",
        "**1.10)**  Given two equal length lists named keys and vals as an arguments, write a function that turns the two lists into a dictionary where each corresponding index of the item in the key list maps to the index of the val list.\n",
        "\n",
        "For example:\n",
        "\n",
        "keys = [1, 2, 3]\n",
        "vals = ['one', 'two', 'three']\n",
        "\n",
        "Your function will return dict = {1 : 'one', 2 : 'two', 3 : 'three'}"
      ]
    },
    {
      "cell_type": "code",
      "metadata": {
        "id": "YXTRLejiWr_Z",
        "colab_type": "code",
        "colab": {
          "base_uri": "https://localhost:8080/",
          "height": 34
        },
        "outputId": "c09a1cf6-540f-4793-d65e-d2c7058e6097"
      },
      "source": [
        "##### YOUR CODE HERE ########\n",
        "\n",
        "def lists_to_dict(keys, vals):\n",
        "  if len(keys) != len(vals):\n",
        "    print(\"Not equal, can't merge\")\n",
        "  new_dict=dict()\n",
        "  for i in range(len(keys)):\n",
        "    new_dict[keys[i]] = vals[i]\n",
        "  return new_dict\n",
        "\n",
        "test1 = ['animal', 'vegetable', 'mineral']\n",
        "test2 = ['dog', 'tomato', 'agate']\n",
        "\n",
        "lists_to_dict(test1, test2)\n",
        "\n",
        "  "
      ],
      "execution_count": null,
      "outputs": [
        {
          "output_type": "execute_result",
          "data": {
            "text/plain": [
              "{'animal': 'dog', 'mineral': 'agate', 'vegetable': 'tomato'}"
            ]
          },
          "metadata": {
            "tags": []
          },
          "execution_count": 30
        }
      ]
    },
    {
      "cell_type": "markdown",
      "metadata": {
        "id": "XPKDiM5j5rd3",
        "colab_type": "text"
      },
      "source": [
        "### Challenge Exercises"
      ]
    },
    {
      "cell_type": "markdown",
      "metadata": {
        "id": "LvhBimOpXBFG",
        "colab_type": "text"
      },
      "source": [
        "**1.11)** Given a list of numbers, write a function that returns a list with all of the negative numbers removed."
      ]
    },
    {
      "cell_type": "code",
      "metadata": {
        "id": "JJ2J3KadXLiq",
        "colab_type": "code",
        "colab": {
          "base_uri": "https://localhost:8080/",
          "height": 68
        },
        "outputId": "89b3a626-b0d8-41f3-fadf-ac705cdb0873"
      },
      "source": [
        "test = [2,4,5,-1, 0, 10, -12, 7]\n",
        "test2 = [-1,-2,-3]\n",
        "test3 = [2,5,9]\n",
        "\n",
        "def no_neg(list):\n",
        "  if list >= 0:\n",
        "    return True\n",
        "\n",
        "pos = filter(no_neg, test3)\n",
        "\n",
        "for x in pos:\n",
        "  print(x)\n",
        "\n",
        "\n",
        "#no_neg(test)\n",
        "#no_neg(test2)\n",
        "#no_neg(test3) "
      ],
      "execution_count": null,
      "outputs": [
        {
          "output_type": "stream",
          "text": [
            "2\n",
            "5\n",
            "9\n"
          ],
          "name": "stdout"
        }
      ]
    },
    {
      "cell_type": "markdown",
      "metadata": {
        "id": "QvWr5FRnXNif",
        "colab_type": "text"
      },
      "source": [
        "**1.12)** Given a list of strings, write a function that returns the string of the shortest length."
      ]
    },
    {
      "cell_type": "code",
      "metadata": {
        "id": "pM0tQ9wRXMuJ",
        "colab_type": "code",
        "colab": {
          "base_uri": "https://localhost:8080/",
          "height": 35
        },
        "outputId": "e49faa3c-25f8-48a3-f34e-5129eeecd29d"
      },
      "source": [
        "def shorty(list):\n",
        "  shrtstf = list[0]\n",
        "  for i in range(len(list)):\n",
        "    if len(list[i]) < len(shrtstf):\n",
        "      shrtstf = list[i]\n",
        "  return shrtstf\n",
        "\n",
        "test1 = ['house', 'cat', 'animal', 'tree']\n",
        "test2 = ['creature', 'go', 'hell']\n",
        "\n",
        "#shorty(test1)\n",
        "shorty(test2)\n"
      ],
      "execution_count": null,
      "outputs": [
        {
          "output_type": "execute_result",
          "data": {
            "application/vnd.google.colaboratory.intrinsic+json": {
              "type": "string"
            },
            "text/plain": [
              "'go'"
            ]
          },
          "metadata": {
            "tags": []
          },
          "execution_count": 41
        }
      ]
    },
    {
      "cell_type": "markdown",
      "metadata": {
        "id": "E2PuqNJHXgZl",
        "colab_type": "text"
      },
      "source": [
        "**1.13)** Given a dictionary with strings as keys, write a function that returns a list of the keys sorted in ascending order."
      ]
    },
    {
      "cell_type": "code",
      "metadata": {
        "id": "uE_XP-QeXu4u",
        "colab_type": "code",
        "colab": {
          "base_uri": "https://localhost:8080/",
          "height": 34
        },
        "outputId": "a0f439c0-3290-4484-dbdb-42da35711cd0"
      },
      "source": [
        "def sort_dict(dict):\n",
        "  key_list = []\n",
        "  for key,val in dict.items():\n",
        "    key_list.append(key)\n",
        "    key_list.sort()\n",
        "  return key_list\n",
        "\n",
        "#test = {'mineral': 'agate', 'vegetable': 'tomato','animal': 'dog'}\n",
        "#test = {'vegetable': 'tomato','animal': 'dog','mineral': 'agate'}\n",
        "test = {1234: 'tomato',9742: 'dog', 35: 'agate'}\n",
        "sort_dict(test)\n"
      ],
      "execution_count": null,
      "outputs": [
        {
          "output_type": "execute_result",
          "data": {
            "text/plain": [
              "[35, 1234, 9742]"
            ]
          },
          "metadata": {
            "tags": []
          },
          "execution_count": 45
        }
      ]
    },
    {
      "cell_type": "markdown",
      "metadata": {
        "id": "z1eTDdd7XuiJ",
        "colab_type": "text"
      },
      "source": [
        "**1.14)** Write a function that takes in a string and a number. The string can either be \"cm\" or \"in\". If the string is \"cm\" then your function must convert from the number from centimeters to inches. If the string is \"in\", your function must convert the number from inches to centimeters. If the string isn't \"cm\" or \"in\", print \"Unit unrecognized.\n"
      ]
    },
    {
      "cell_type": "code",
      "metadata": {
        "id": "ZZI-1caSYbW6",
        "colab_type": "code",
        "colab": {
          "base_uri": "https://localhost:8080/",
          "height": 34
        },
        "outputId": "e8d63351-0784-4bb8-daca-fecb4973741b"
      },
      "source": [
        "#### YOUR CODE HERE #######\n",
        "def convert(thing, num):\n",
        "  if thing == 'cm':\n",
        "    print('Equals ' + str(num/2.54) + ' inches')\n",
        "  elif thing == 'in':\n",
        "    print('Equals ' + str(num*2.54) + ' centimeters')\n",
        "  else:\n",
        "    print('Unit Unrecognized')\n",
        "\n",
        "#unit = 'cm'\n",
        "#unit = 'in'\n",
        "unit = 'kg' \n",
        "\n",
        "val = 4\n",
        "\n",
        "convert(unit, val)"
      ],
      "execution_count": null,
      "outputs": [
        {
          "output_type": "stream",
          "text": [
            "Unit Unrecognized\n"
          ],
          "name": "stdout"
        }
      ]
    }
  ]
}